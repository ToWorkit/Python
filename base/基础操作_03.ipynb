{
 "cells": [
  {
   "cell_type": "code",
   "execution_count": 1,
   "metadata": {},
   "outputs": [
    {
     "name": "stdout",
     "output_type": "stream",
     "text": [
      "['A', 'B']\n",
      "['B', 'C']\n",
      "['A', 'B', 'C', 'D']\n",
      "['C', 'D']\n",
      "['C']\n",
      "(0, 1, 2, 3, 4, 5, 6, 7, 8, 9)\n",
      "[0, 1, 2, 3, 4, 5, 6, 7, 8, 9]\n",
      "[0, 2, 4, 6, 8]\n",
      "[0, 5, 10, 15, 20, 25, 30, 35, 40, 45, 50, 55, 60, 65, 70, 75, 80, 85, 90, 95]\n",
      "Abc\n"
     ]
    }
   ],
   "source": [
    "l = ['A', 'B', 'C', 'D']\n",
    "# 取前三个元素 0, 1, 2, 索引为0时可以省略\n",
    "# print(l[0:3])\n",
    "# 含头不含尾\n",
    "print(l[:2])\n",
    "print(l[1:3])\n",
    "print(l[:])\n",
    "# 倒数切片(slice)\n",
    "print(l[-2:])\n",
    "print(l[-2:-1])\n",
    "# 注意查看区别\n",
    "print(tuple(range(10)))\n",
    "print(list(range(10)))\n",
    "\n",
    "num = list(range(100))\n",
    "# 前十个数，每两个取一个\n",
    "print(num[:10:2])\n",
    "# 所有数，每5个取一个\n",
    "print(num[::5])\n",
    "# tuple格式和字符串的数据同样适用切片\n",
    "a = 'abc'\n",
    "print(a[:1].upper() + a[1:])"
   ]
  },
  {
   "cell_type": "code",
   "execution_count": 2,
   "metadata": {},
   "outputs": [
    {
     "name": "stdout",
     "output_type": "stream",
     "text": [
      "[1, 2, 3, 4, 5]\n",
      "[1, 4, 9, 16, 25, 36, 49, 64, 81, 100]\n",
      "[1, 4, 9, 16, 25, 36, 49, 64, 81, 100]\n",
      "[4, 16, 36, 64, 100]\n",
      "['AX', 'AY', 'AZ', 'BX', 'BY', 'BZ', 'CX', 'CY', 'CZ']\n"
     ]
    }
   ],
   "source": [
    "# 生成list [1, 2, 3, 4, 5]\n",
    "print(list(range(1, 6)))\n",
    "# 生成[1*1, 2*2, 3*3, ..., 10*10]\n",
    "# 方法一 使用循环\n",
    "l = []\n",
    "for item in range(1, 11):\n",
    "  l.append(item * item)\n",
    "print(l)\n",
    "# 方法二 使用列表生成式\n",
    "print([item * item for item in range(1, 11)])\n",
    "# 只求偶数的\n",
    "print([item * item for item in range(1, 11) if item % 2 == 0])\n",
    "# 两个队列的组合\n",
    "print([m + n for m in 'ABC' for n in 'XYZ'])"
   ]
  },
  {
   "cell_type": "code",
   "execution_count": 12,
   "metadata": {},
   "outputs": [
    {
     "name": "stdout",
     "output_type": "stream",
     "text": [
      "['g', 'd', 'a']\n",
      "['g', 'e', 'c', 'a']\n",
      "['g', 'c']\n",
      "['b', 'c', 'd', 'e']\n",
      "False\n",
      "['a', 'b', 'c', 'd', 'e', 'f', 'g', 'll']\n",
      "['a', 'b', '30k', 'c', 'd', 'e', 'f', 'g', 'll']\n",
      "['a', '30k', 'c', 'd', 'e', 'f', 'g', 'll']\n",
      "['a', '30k', 'c', 'e', 'f', 'g', 'll']\n",
      "['30k', 'c', 'e', 'f', 'g', 'll']\n",
      "[]\n"
     ]
    }
   ],
   "source": [
    "a = ['a', 'b', 'c', 'd', 'e', 'f', 'g']\n",
    "# 查\n",
    "print(a[-1::-3])\n",
    "print(a[-1::-2])\n",
    "print(a[-1::-4])\n",
    "print(a[1:5])\n",
    "print('lp' in a) # False\n",
    "# 增加\n",
    "a.append('ll')\n",
    "print(a)\n",
    "a.insert(2, '30k')\n",
    "print(a)\n",
    "# 可以直接赋值来修改\n",
    "# 删\n",
    "a.remove('b') # 根据内容移除\n",
    "print(a)\n",
    "# 不指定索引默认删除最后一个\n",
    "a.pop(3) # 根据索引移除，返回值为删除的元素\n",
    "print(a)\n",
    "# del 可以删除 a 这个list本身\n",
    "del a[0]\n",
    "print(a)\n",
    "# clear 清空\n",
    "a.clear()\n",
    "print(a)"
   ]
  },
  {
   "cell_type": "code",
   "execution_count": 13,
   "metadata": {},
   "outputs": [
    {
     "name": "stdout",
     "output_type": "stream",
     "text": [
      "True\n",
      "True\n",
      "True\n",
      "True\n",
      "True\n",
      "False\n"
     ]
    }
   ],
   "source": [
    "# 通过collections模块的iterable(可迭代)类型判断\n",
    "# 引入\n",
    "from collections import Iterable\n",
    "# 判断 参数1 的类型是否是 参数2\n",
    "print(isinstance('ABC', str))\n",
    "# 判断字符串是否可迭代  True\n",
    "print(isinstance('abc', Iterable))\n",
    "# 判断list是否可迭代 True\n",
    "print(isinstance([1, 2, 3], Iterable))\n",
    "# 判断tuple是否可迭代 True\n",
    "print(isinstance((1, 2, 3), Iterable))\n",
    "# 判断dict是否可迭代 True\n",
    "print(isinstance({'name': 'pl', 'favour': 'girl'}, Iterable))\n",
    "# 判断整数是否可迭代 False\n",
    "print(isinstance(123, Iterable))"
   ]
  },
  {
   "cell_type": "code",
   "execution_count": 14,
   "metadata": {},
   "outputs": [
    {
     "name": "stdout",
     "output_type": "stream",
     "text": [
      "Name: world\n",
      "Age: 1\n",
      "Job: 1\n",
      "Salary: 2\n",
      "\n",
      "---------info of world ---------\n",
      "Name: world\n",
      "Age: 1\n",
      "Job: 1\n",
      "Salary: 2\n",
      "You will be retired in 9999999998 years # 多久退休\n",
      "---------end ----------------\n",
      "\n"
     ]
    }
   ],
   "source": [
    "# 字符串占位符 %s   string\n",
    "# 整数占位符   %d   digit\n",
    "# 浮点数占位符 %f   float\n",
    "name = input('Name: ')\n",
    "age = input('Age: ')\n",
    "job = input('Job: ')\n",
    "salary = input('Salary: ')\n",
    "# 判断长得像不像数字\n",
    "if salary.isdigit():\n",
    "    salary = int(salary)\n",
    "else:\n",
    "    # print('mut input digit')\n",
    "    exit('mut input digit') # 不满足条件则停止继续执行程序\n",
    "\n",
    "# 占位符同样要求格式\n",
    "msg = '''\n",
    "---------info of %s ---------\n",
    "Name: %s\n",
    "Age: %d\n",
    "Job: %s\n",
    "Salary: %s\n",
    "You will be retired in %s years # 多久退休\n",
    "---------end ----------------\n",
    "''' % (name, name, int(age), job, salary, 9999999999 - int(age))\n",
    "print(msg)"
   ]
  },
  {
   "cell_type": "code",
   "execution_count": 15,
   "metadata": {},
   "outputs": [
    {
     "name": "stdout",
     "output_type": "stream",
     "text": [
      "dict_items([('x', 'a'), ('y', 'b'), ('z', 'c')])\n",
      "x a\n",
      "y b\n",
      "z c\n",
      "['x->a', 'y->b', 'z->c']\n"
     ]
    }
   ],
   "source": [
    "d = {'x': 'a', 'y': 'b', 'z': 'c'}\n",
    "print(d.items())\n",
    "for k, v in d.items():\n",
    "  print(k, v)\n",
    "# 使用两个变量来生成list\n",
    "print([k + '->' + v for k, v in d.items()])"
   ]
  },
  {
   "cell_type": "code",
   "execution_count": null,
   "metadata": {
    "collapsed": true
   },
   "outputs": [],
   "source": []
  }
 ],
 "metadata": {
  "kernelspec": {
   "display_name": "Python 3",
   "language": "python",
   "name": "python3"
  },
  "language_info": {
   "codemirror_mode": {
    "name": "ipython",
    "version": 3
   },
   "file_extension": ".py",
   "mimetype": "text/x-python",
   "name": "python",
   "nbconvert_exporter": "python",
   "pygments_lexer": "ipython3",
   "version": "3.6.1"
  }
 },
 "nbformat": 4,
 "nbformat_minor": 2
}

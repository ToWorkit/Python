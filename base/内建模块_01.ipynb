{
 "cells": [
  {
   "cell_type": "code",
   "execution_count": 1,
   "metadata": {},
   "outputs": [
    {
     "name": "stdout",
     "output_type": "stream",
     "text": [
      "1\n",
      "2\n",
      "True\n",
      "True\n"
     ]
    }
   ],
   "source": [
    "# 集合\n",
    "\n",
    "# tuple 不变集合\n",
    "\n",
    "# namedtuple 来创建一个表示坐标的集合\n",
    "# namedtuple可以很方便地定义一种数据类型，它具备tuple的不变性，又可以根据属性来引用\n",
    "from collections import namedtuple\n",
    "Point = namedtuple('Point', ['x', 'y'])\n",
    "p = Point(1, 2)\n",
    "print(p.x)\n",
    "print(p.y)\n",
    "# 验证创建的Point对象是tuple的一种子类\n",
    "print(isinstance(p, Point))\n",
    "print(isinstance(p, tuple))\n",
    "\n",
    "# 坐标和半径表示一个圆\n",
    "# namedtuple('名称', [属性list])\n",
    "Circle = namedtuple('Circle', ['x', 'y', 'r'])"
   ]
  },
  {
   "cell_type": "code",
   "execution_count": 2,
   "metadata": {},
   "outputs": [
    {
     "name": "stdout",
     "output_type": "stream",
     "text": [
      "deque(['y', 'a', 'b', 'c', 'x'])\n"
     ]
    }
   ],
   "source": [
    "# deque\n",
    "# 使用list存储数据时，按索引访问元素很快，但是插入和删除元素就很慢了，因为list是线性存储，数据量大的时候，插入和删除效率很低。\n",
    "# deque是为了高效实现插入和删除操作的双向列表，适合用于队列和栈：\n",
    "# deque除了实现list的append()和pop()外，还支持appendleft()和popleft()，这样就可以非常高效地往头部添加或删除元素。\n",
    "from collections import deque\n",
    "q = deque(['a', 'b', 'c'])\n",
    "q.append('x')\n",
    "q.appendleft('y')\n",
    "print(q)"
   ]
  },
  {
   "cell_type": "code",
   "execution_count": 3,
   "metadata": {},
   "outputs": [
    {
     "name": "stdout",
     "output_type": "stream",
     "text": [
      "abc\n",
      "DEFAULT\n"
     ]
    }
   ],
   "source": [
    "# defaultdict\n",
    "# 使用dict时，如果引用的Key不存在，就会抛出KeyError。如果希望key不存在时，返回一个默认值，就可以用defaultdict\n",
    "# 除了在Key不存在时返回默认值，defaultdict的其他行为跟dict是完全一样的。\n",
    "from collections import defaultdict\n",
    "# 注意默认值是调用函数返回的，而函数在创建defaultdict对象时传入。\n",
    "dd = defaultdict(lambda: 'DEFAULT')\n",
    "dd['a'] = 'abc'\n",
    "print(dd['a'])\n",
    "print(dd['v'])"
   ]
  },
  {
   "cell_type": "code",
   "execution_count": 4,
   "metadata": {},
   "outputs": [
    {
     "name": "stdout",
     "output_type": "stream",
     "text": [
      "{'a': 1, 'b': 2, 'c': 3}\n",
      "OrderedDict([('a', 1), ('b', 2), ('c', 3)])\n"
     ]
    }
   ],
   "source": [
    "# OrderedDict\n",
    "# 使用dict时，Key是无序的。在对dict做迭代时，我们无法确定Key的顺序。如果要保持Key的顺序，可以用OrderedDict：\n",
    "from collections import OrderedDict\n",
    "d = dict([('a', 1), ('b', 2), ('c', 3)])\n",
    "print(d)\n",
    "# 注意，OrderedDict的Key会按照插入的顺序排列，不是Key本身排序：\n",
    "od = OrderedDict([('a', 1), ('b', 2), ('c', 3)])\n",
    "print(od)\n",
    "od.add()"
   ]
  }
 ],
 "metadata": {
  "kernelspec": {
   "display_name": "Python 3",
   "language": "python",
   "name": "python3"
  },
  "language_info": {
   "codemirror_mode": {
    "name": "ipython",
    "version": 3
   },
   "file_extension": ".py",
   "mimetype": "text/x-python",
   "name": "python",
   "nbconvert_exporter": "python",
   "pygments_lexer": "ipython3",
   "version": "3.6.1"
  }
 },
 "nbformat": 4,
 "nbformat_minor": 2
}

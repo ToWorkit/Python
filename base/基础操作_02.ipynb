{
 "cells": [
  {
   "cell_type": "code",
   "execution_count": 1,
   "metadata": {},
   "outputs": [
    {
     "name": "stdout",
     "output_type": "stream",
     "text": [
      "(1+2j)\n",
      "<class 'complex'>\n"
     ]
    }
   ],
   "source": [
    "data=1+2j\n",
    "print(data)\n",
    "print(type(data)) # 复数数据类型"
   ]
  },
  {
   "cell_type": "code",
   "execution_count": 3,
   "metadata": {},
   "outputs": [
    {
     "name": "stdout",
     "output_type": "stream",
     "text": [
      "1\n",
      "2\n"
     ]
    },
    {
     "ename": "NameError",
     "evalue": "name 'num' is not defined",
     "output_type": "error",
     "traceback": [
      "\u001b[1;31m---------------------------------------------------------------------------\u001b[0m",
      "\u001b[1;31mNameError\u001b[0m                                 Traceback (most recent call last)",
      "\u001b[1;32m<ipython-input-3-a68883a20f5d>\u001b[0m in \u001b[0;36m<module>\u001b[1;34m()\u001b[0m\n\u001b[0;32m      4\u001b[0m \u001b[0mprint\u001b[0m\u001b[1;33m(\u001b[0m\u001b[0mnum\u001b[0m\u001b[1;33m)\u001b[0m\u001b[1;33m\u001b[0m\u001b[0m\n\u001b[0;32m      5\u001b[0m \u001b[1;32mdel\u001b[0m \u001b[0mnum\u001b[0m \u001b[1;31m#删除变量，不能再用\u001b[0m\u001b[1;33m\u001b[0m\u001b[0m\n\u001b[1;32m----> 6\u001b[1;33m \u001b[0mprint\u001b[0m\u001b[1;33m(\u001b[0m\u001b[0mnum\u001b[0m\u001b[1;33m)\u001b[0m\u001b[1;33m\u001b[0m\u001b[0m\n\u001b[0m",
      "\u001b[1;31mNameError\u001b[0m: name 'num' is not defined"
     ]
    }
   ],
   "source": [
    "num=1\n",
    "print(num)\n",
    "num=2\n",
    "print(num)\n",
    "del num #删除变量，不能再用\n",
    "print(num)"
   ]
  },
  {
   "cell_type": "code",
   "execution_count": 4,
   "metadata": {},
   "outputs": [
    {
     "name": "stdout",
     "output_type": "stream",
     "text": [
      "10 10\n"
     ]
    }
   ],
   "source": [
    "num1=num2=10 # 连续赋值\n",
    "print(num1,num2)"
   ]
  },
  {
   "cell_type": "code",
   "execution_count": 5,
   "metadata": {},
   "outputs": [
    {
     "name": "stdout",
     "output_type": "stream",
     "text": [
      "1 2 3\n"
     ]
    }
   ],
   "source": [
    "num1,num2,num3=1,2,3  # num=1, num2=2\n",
    "print(num1,num2,num3) # 必须对称，交互对称赋值"
   ]
  },
  {
   "cell_type": "code",
   "execution_count": 6,
   "metadata": {},
   "outputs": [
    {
     "name": "stdout",
     "output_type": "stream",
     "text": [
      "115\n",
      "85\n",
      "1500\n",
      "6.666666666666667\n",
      "6\n",
      "10\n",
      "1000000\n"
     ]
    }
   ],
   "source": [
    "num1=100\n",
    "num2=15\n",
    "print(num1+num2)\n",
    "print(num1-num2)\n",
    "print(num1*num2)\n",
    "print(num1/num2) # 求实数\n",
    "print(num1//num2) # 整除\n",
    "print(num1%num2) # 求余数  100=6*15+10\n",
    "print(num1**3)  # **开方，  num1*num1*num1\n",
    "#num1**0.5,求平方根"
   ]
  },
  {
   "cell_type": "code",
   "execution_count": 7,
   "metadata": {},
   "outputs": [
    {
     "name": "stdout",
     "output_type": "stream",
     "text": [
      "1500.0\n",
      "0.00015\n"
     ]
    },
    {
     "ename": "OverflowError",
     "evalue": "(34, 'Result too large')",
     "output_type": "error",
     "traceback": [
      "\u001b[1;31m---------------------------------------------------------------------------\u001b[0m",
      "\u001b[1;31mOverflowError\u001b[0m                             Traceback (most recent call last)",
      "\u001b[1;32m<ipython-input-7-32fd2fc90bca>\u001b[0m in \u001b[0;36m<module>\u001b[1;34m()\u001b[0m\n\u001b[0;32m      4\u001b[0m \u001b[0mprint\u001b[0m\u001b[1;33m(\u001b[0m\u001b[0mdata\u001b[0m\u001b[1;33m)\u001b[0m\u001b[1;33m\u001b[0m\u001b[0m\n\u001b[0;32m      5\u001b[0m \u001b[1;33m\u001b[0m\u001b[0m\n\u001b[1;32m----> 6\u001b[1;33m \u001b[0mdata\u001b[0m\u001b[1;33m=\u001b[0m\u001b[1;36m100.8\u001b[0m\u001b[1;33m**\u001b[0m\u001b[1;36m10000000\u001b[0m \u001b[1;31m# 超过数字范围\u001b[0m\u001b[1;33m\u001b[0m\u001b[0m\n\u001b[0m\u001b[0;32m      7\u001b[0m \u001b[0mprint\u001b[0m\u001b[1;33m(\u001b[0m\u001b[0mdata\u001b[0m\u001b[1;33m)\u001b[0m\u001b[1;33m\u001b[0m\u001b[0m\n",
      "\u001b[1;31mOverflowError\u001b[0m: (34, 'Result too large')"
     ]
    }
   ],
   "source": [
    "data=1.5e3   # 1.5*10^3\n",
    "print(data)\n",
    "data=1.5e-4 # 1.5 /10/10/10/10\n",
    "print(data)\n",
    "\n",
    "data=100.8**10000000 # 超过数字范围\n",
    "print(data)"
   ]
  },
  {
   "cell_type": "code",
   "execution_count": 8,
   "metadata": {},
   "outputs": [
    {
     "name": "stdout",
     "output_type": "stream",
     "text": [
      "11\n",
      "8\n",
      "24\n",
      "24\n",
      "12\n",
      "2\n",
      "8\n"
     ]
    }
   ],
   "source": [
    "num=10\n",
    "#num=num+1\n",
    "num +=  1 #等价num=num+1,+=连在一起\n",
    "print(num)#11\n",
    "num-=3\n",
    "print(num)#8\n",
    "num*=3\n",
    "print(num)#24\n",
    "#num/=2#整数整数结果实数，两个有一个是实数，结果总是实数\n",
    "print(num)\n",
    "num//=2#整数整数结果整数,两个有一个是实数，结果是实数\n",
    "print(num)\n",
    "num %=5  #num=num%5\n",
    "print(num)\n",
    "num**=3  #num=num**3\n",
    "print(num)"
   ]
  },
  {
   "cell_type": "code",
   "execution_count": 9,
   "metadata": {},
   "outputs": [
    {
     "name": "stdout",
     "output_type": "stream",
     "text": [
      "4\n",
      "11\n"
     ]
    }
   ],
   "source": [
    "num=4.5\n",
    "print(int(num)) #int(取整数)\n",
    "num=10.56\n",
    "print(round(num)) #四舍五入"
   ]
  },
  {
   "cell_type": "code",
   "execution_count": 1,
   "metadata": {},
   "outputs": [
    {
     "name": "stdout",
     "output_type": "stream",
     "text": [
      "1538874129.9087443\n",
      "自从1970现在过去了 1538874129 秒\n",
      "自从1970现在过去了 49 年 5 月 21 天 1 小时 2 分 9 秒\n"
     ]
    }
   ],
   "source": [
    "import  time  #时间\n",
    "mytimes=time.time()\n",
    "print(mytimes)\n",
    "#mytimes=100000\n",
    "print(\"自从1970现在过去了\",int(mytimes),\"秒\")\n",
    "seconds= int(mytimes)%60  #秒\n",
    "hours=int(mytimes)//3600  #过去了多少小时\n",
    "mins=  int(mytimes)%3600     #(int(mytimes)-int(mytimes)//3600*3600)#剩余的秒数\n",
    "mins= (mins-seconds) //60\n",
    "days=hours//24\n",
    "hours=hours%24\n",
    "\n",
    "months=days//30\n",
    "days=days%30\n",
    "\n",
    "year=months//12\n",
    "months=months%12\n",
    "\n",
    "print(\"自从1970现在过去了\",\n",
    "      year,\"年\",\n",
    "      months,\"月\",\n",
    "      days,\"天\",\n",
    "      hours,\"小时\",\n",
    "      mins,\"分\",\n",
    "      seconds,\"秒\")\n",
    "#100%9=100-100//9*9=1\n",
    "#3600+1550秒 =5150秒\n",
    "#1小时   50秒\n",
    "#5150-50-3600  /60=\n",
    "\n",
    "#3959\n",
    "#3959%60=59\n",
    "#3959//3600=1\n",
    "#(3959-1*3600-59)  /60"
   ]
  },
  {
   "cell_type": "code",
   "execution_count": 15,
   "metadata": {},
   "outputs": [
    {
     "data": {
      "text/plain": [
       "0"
      ]
     },
     "execution_count": 15,
     "metadata": {},
     "output_type": "execute_result"
    }
   ],
   "source": [
    "import os  #导入，操作系统\n",
    "os.system(\"ipconfig\")"
   ]
  },
  {
   "cell_type": "code",
   "execution_count": 1,
   "metadata": {},
   "outputs": [
    {
     "name": "stdout",
     "output_type": "stream",
     "text": [
      "输入数据1\n",
      "1\n"
     ]
    }
   ],
   "source": [
    "def my_abs (x):\n",
    "    if not isinstance(x, (int, float)): # 只允许整数和浮点数类型\n",
    "        raise TypeError('bad operand type')\n",
    "    if x >= 0:\n",
    "        return x\n",
    "    else:\n",
    "        return -x\n",
    "\n",
    "# 输入的数据会是字符串格式需要转为int整数类型\n",
    "print(my_abs(int(input('输入数据'))))"
   ]
  },
  {
   "cell_type": "code",
   "execution_count": null,
   "metadata": {
    "collapsed": true
   },
   "outputs": [],
   "source": []
  }
 ],
 "metadata": {
  "kernelspec": {
   "display_name": "Python 3",
   "language": "python",
   "name": "python3"
  },
  "language_info": {
   "codemirror_mode": {
    "name": "ipython",
    "version": 3
   },
   "file_extension": ".py",
   "mimetype": "text/x-python",
   "name": "python",
   "nbconvert_exporter": "python",
   "pygments_lexer": "ipython3",
   "version": "3.6.1"
  }
 },
 "nbformat": 4,
 "nbformat_minor": 2
}

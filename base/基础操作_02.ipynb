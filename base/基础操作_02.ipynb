{
 "cells": [
  {
   "cell_type": "code",
   "execution_count": 1,
   "metadata": {},
   "outputs": [
    {
     "name": "stdout",
     "output_type": "stream",
     "text": [
      "(1+2j)\n",
      "<class 'complex'>\n"
     ]
    }
   ],
   "source": [
    "data=1+2j\n",
    "print(data)\n",
    "print(type(data)) # 复数数据类型"
   ]
  },
  {
   "cell_type": "code",
   "execution_count": 3,
   "metadata": {},
   "outputs": [
    {
     "name": "stdout",
     "output_type": "stream",
     "text": [
      "1\n",
      "2\n"
     ]
    },
    {
     "ename": "NameError",
     "evalue": "name 'num' is not defined",
     "output_type": "error",
     "traceback": [
      "\u001b[1;31m---------------------------------------------------------------------------\u001b[0m",
      "\u001b[1;31mNameError\u001b[0m                                 Traceback (most recent call last)",
      "\u001b[1;32m<ipython-input-3-a68883a20f5d>\u001b[0m in \u001b[0;36m<module>\u001b[1;34m()\u001b[0m\n\u001b[0;32m      4\u001b[0m \u001b[0mprint\u001b[0m\u001b[1;33m(\u001b[0m\u001b[0mnum\u001b[0m\u001b[1;33m)\u001b[0m\u001b[1;33m\u001b[0m\u001b[0m\n\u001b[0;32m      5\u001b[0m \u001b[1;32mdel\u001b[0m \u001b[0mnum\u001b[0m \u001b[1;31m#删除变量，不能再用\u001b[0m\u001b[1;33m\u001b[0m\u001b[0m\n\u001b[1;32m----> 6\u001b[1;33m \u001b[0mprint\u001b[0m\u001b[1;33m(\u001b[0m\u001b[0mnum\u001b[0m\u001b[1;33m)\u001b[0m\u001b[1;33m\u001b[0m\u001b[0m\n\u001b[0m",
      "\u001b[1;31mNameError\u001b[0m: name 'num' is not defined"
     ]
    }
   ],
   "source": [
    "num=1\n",
    "print(num)\n",
    "num=2\n",
    "print(num)\n",
    "del num #删除变量，不能再用\n",
    "print(num)"
   ]
  },
  {
   "cell_type": "code",
   "execution_count": 4,
   "metadata": {},
   "outputs": [
    {
     "name": "stdout",
     "output_type": "stream",
     "text": [
      "10 10\n"
     ]
    }
   ],
   "source": [
    "num1=num2=10 # 连续赋值\n",
    "print(num1,num2)"
   ]
  },
  {
   "cell_type": "code",
   "execution_count": 5,
   "metadata": {},
   "outputs": [
    {
     "name": "stdout",
     "output_type": "stream",
     "text": [
      "1 2 3\n"
     ]
    }
   ],
   "source": [
    "num1,num2,num3=1,2,3  # num=1, num2=2\n",
    "print(num1,num2,num3) # 必须对称，交互对称赋值"
   ]
  },
  {
   "cell_type": "code",
   "execution_count": 6,
   "metadata": {},
   "outputs": [
    {
     "name": "stdout",
     "output_type": "stream",
     "text": [
      "115\n",
      "85\n",
      "1500\n",
      "6.666666666666667\n",
      "6\n",
      "10\n",
      "1000000\n"
     ]
    }
   ],
   "source": [
    "num1=100\n",
    "num2=15\n",
    "print(num1+num2)\n",
    "print(num1-num2)\n",
    "print(num1*num2)\n",
    "print(num1/num2) # 求实数\n",
    "print(num1//num2) # 整除\n",
    "print(num1%num2) # 求余数  100=6*15+10\n",
    "print(num1**3)  # **开方，  num1*num1*num1\n",
    "#num1**0.5,求平方根"
   ]
  },
  {
   "cell_type": "code",
   "execution_count": 7,
   "metadata": {},
   "outputs": [
    {
     "name": "stdout",
     "output_type": "stream",
     "text": [
      "1500.0\n",
      "0.00015\n"
     ]
    },
    {
     "ename": "OverflowError",
     "evalue": "(34, 'Result too large')",
     "output_type": "error",
     "traceback": [
      "\u001b[1;31m---------------------------------------------------------------------------\u001b[0m",
      "\u001b[1;31mOverflowError\u001b[0m                             Traceback (most recent call last)",
      "\u001b[1;32m<ipython-input-7-32fd2fc90bca>\u001b[0m in \u001b[0;36m<module>\u001b[1;34m()\u001b[0m\n\u001b[0;32m      4\u001b[0m \u001b[0mprint\u001b[0m\u001b[1;33m(\u001b[0m\u001b[0mdata\u001b[0m\u001b[1;33m)\u001b[0m\u001b[1;33m\u001b[0m\u001b[0m\n\u001b[0;32m      5\u001b[0m \u001b[1;33m\u001b[0m\u001b[0m\n\u001b[1;32m----> 6\u001b[1;33m \u001b[0mdata\u001b[0m\u001b[1;33m=\u001b[0m\u001b[1;36m100.8\u001b[0m\u001b[1;33m**\u001b[0m\u001b[1;36m10000000\u001b[0m \u001b[1;31m# 超过数字范围\u001b[0m\u001b[1;33m\u001b[0m\u001b[0m\n\u001b[0m\u001b[0;32m      7\u001b[0m \u001b[0mprint\u001b[0m\u001b[1;33m(\u001b[0m\u001b[0mdata\u001b[0m\u001b[1;33m)\u001b[0m\u001b[1;33m\u001b[0m\u001b[0m\n",
      "\u001b[1;31mOverflowError\u001b[0m: (34, 'Result too large')"
     ]
    }
   ],
   "source": [
    "data=1.5e3   # 1.5*10^3\n",
    "print(data)\n",
    "data=1.5e-4 # 1.5 /10/10/10/10\n",
    "print(data)\n",
    "\n",
    "data=100.8**10000000 # 超过数字范围\n",
    "print(data)"
   ]
  },
  {
   "cell_type": "code",
   "execution_count": 8,
   "metadata": {},
   "outputs": [
    {
     "name": "stdout",
     "output_type": "stream",
     "text": [
      "11\n",
      "8\n",
      "24\n",
      "24\n",
      "12\n",
      "2\n",
      "8\n"
     ]
    }
   ],
   "source": [
    "num=10\n",
    "#num=num+1\n",
    "num +=  1 #等价num=num+1,+=连在一起\n",
    "print(num)#11\n",
    "num-=3\n",
    "print(num)#8\n",
    "num*=3\n",
    "print(num)#24\n",
    "#num/=2#整数整数结果实数，两个有一个是实数，结果总是实数\n",
    "print(num)\n",
    "num//=2#整数整数结果整数,两个有一个是实数，结果是实数\n",
    "print(num)\n",
    "num %=5  #num=num%5\n",
    "print(num)\n",
    "num**=3  #num=num**3\n",
    "print(num)"
   ]
  },
  {
   "cell_type": "code",
   "execution_count": 9,
   "metadata": {},
   "outputs": [
    {
     "name": "stdout",
     "output_type": "stream",
     "text": [
      "4\n",
      "11\n"
     ]
    }
   ],
   "source": [
    "num=4.5\n",
    "print(int(num)) #int(取整数)\n",
    "num=10.56\n",
    "print(round(num)) #四舍五入"
   ]
  },
  {
   "cell_type": "code",
   "execution_count": 1,
   "metadata": {},
   "outputs": [
    {
     "name": "stdout",
     "output_type": "stream",
     "text": [
      "1538874129.9087443\n",
      "自从1970现在过去了 1538874129 秒\n",
      "自从1970现在过去了 49 年 5 月 21 天 1 小时 2 分 9 秒\n"
     ]
    }
   ],
   "source": [
    "import  time  #时间\n",
    "mytimes=time.time()\n",
    "print(mytimes)\n",
    "#mytimes=100000\n",
    "print(\"自从1970现在过去了\",int(mytimes),\"秒\")\n",
    "seconds= int(mytimes)%60  #秒\n",
    "hours=int(mytimes)//3600  #过去了多少小时\n",
    "mins=  int(mytimes)%3600     #(int(mytimes)-int(mytimes)//3600*3600)#剩余的秒数\n",
    "mins= (mins-seconds) //60\n",
    "days=hours//24\n",
    "hours=hours%24\n",
    "\n",
    "months=days//30\n",
    "days=days%30\n",
    "\n",
    "year=months//12\n",
    "months=months%12\n",
    "\n",
    "print(\"自从1970现在过去了\",\n",
    "      year,\"年\",\n",
    "      months,\"月\",\n",
    "      days,\"天\",\n",
    "      hours,\"小时\",\n",
    "      mins,\"分\",\n",
    "      seconds,\"秒\")\n",
    "#100%9=100-100//9*9=1\n",
    "#3600+1550秒 =5150秒\n",
    "#1小时   50秒\n",
    "#5150-50-3600  /60=\n",
    "\n",
    "#3959\n",
    "#3959%60=59\n",
    "#3959//3600=1\n",
    "#(3959-1*3600-59)  /60"
   ]
  },
  {
   "cell_type": "code",
   "execution_count": 15,
   "metadata": {},
   "outputs": [
    {
     "data": {
      "text/plain": [
       "0"
      ]
     },
     "execution_count": 15,
     "metadata": {},
     "output_type": "execute_result"
    }
   ],
   "source": [
    "import os  #导入，操作系统\n",
    "os.system(\"ipconfig\")"
   ]
  },
  {
   "cell_type": "code",
   "execution_count": 1,
   "metadata": {},
   "outputs": [
    {
     "name": "stdout",
     "output_type": "stream",
     "text": [
      "输入数据1\n",
      "1\n"
     ]
    }
   ],
   "source": [
    "def my_abs (x):\n",
    "    if not isinstance(x, (int, float)): # 只允许整数和浮点数类型\n",
    "        raise TypeError('bad operand type')\n",
    "    if x >= 0:\n",
    "        return x\n",
    "    else:\n",
    "        return -x\n",
    "\n",
    "# 输入的数据会是字符串格式需要转为int整数类型\n",
    "print(my_abs(int(input('输入数据'))))"
   ]
  },
  {
   "cell_type": "code",
   "execution_count": 2,
   "metadata": {},
   "outputs": [
    {
     "name": "stdout",
     "output_type": "stream",
     "text": [
      "True\n",
      "True\n",
      "3\n",
      "[1, 2, 3, 4, 2, 5, 2, 'e', 'c', 'b', 'a']\n",
      "[1, 2, 3, 4, 2, 5, 2, 'e', 'c', 'b', 'a', 'e', 'c', 'b', 'a']\n",
      "9\n",
      "['a', 'b', 'c', 'e', 2, 5, 2, 4, 3, 2, 1]\n",
      "[9, 6, 4, 2, 1]\n",
      "[4, 2, 1, 5]\n",
      "[5, 4, 2, 1]\n"
     ]
    }
   ],
   "source": [
    "a = [1, 2, 3, 4, 2, 5, 2]\n",
    "\n",
    "# 判断是不是列表\n",
    "print(type(a) is list)\n",
    "print(isinstance(a, list))\n",
    "\n",
    "# 列表中某一元素出现的次数\n",
    "print(a.count(2))\n",
    "b = ['e', 'c', 'b', 'a']\n",
    "# 合并列表, 会改变a\n",
    "a.extend(b)\n",
    "print(a)\n",
    "# 合并列表，不会改变原列表\n",
    "c = a + b\n",
    "print(c)\n",
    "# 根据内容查找数据\n",
    "print(a.index('b'))\n",
    "# 翻转数组\n",
    "a.reverse()\n",
    "print(a)\n",
    "v = [2, 6, 9, 4, 1]\n",
    "# 排序 (默认从小到大)\n",
    "v.sort(reverse=True) # 从大到小\n",
    "print(v)\n",
    "l = [4, 2, 1, 5]\n",
    "# 排序，不会影响原始值\n",
    "m = sorted(l, reverse=True)\n",
    "print(l)\n",
    "print(m)"
   ]
  },
  {
   "cell_type": "code",
   "execution_count": 3,
   "metadata": {},
   "outputs": [
    {
     "name": "stdout",
     "output_type": "stream",
     "text": [
      "1 添加\n",
      "2 删除\n",
      "3 查看\n",
      "add\n"
     ]
    }
   ],
   "source": [
    "permission_list = [\n",
    "  {'caption': '添加', 'func': 'add'},\n",
    "  {'caption': '删除', 'func': 'delete'},\n",
    "  {'caption': '查看', 'func': 'fetch'}\n",
    "]\n",
    "\n",
    "# 添加序号，从1开始\n",
    "for index, item in enumerate(permission_list, 1):\n",
    "  print(index, item['caption'])\n",
    "\n",
    "choice = '1'\n",
    "choice = int(choice)\n",
    "print(permission_list[choice - 1]['func'])"
   ]
  },
  {
   "cell_type": "code",
   "execution_count": 4,
   "metadata": {},
   "outputs": [
    {
     "name": "stdout",
     "output_type": "stream",
     "text": [
      "Jan => Month.Jan , 1\n",
      "Feb => Month.Feb , 2\n",
      "Mar => Month.Mar , 3\n",
      "Apr => Month.Apr , 4\n",
      "May => Month.May , 5\n",
      "Jun => Month.Jun , 6\n",
      "Jul => Month.Jul , 7\n",
      "Aug => Month.Aug , 8\n",
      "Sep => Month.Sep , 9\n",
      "Oct => Month.Oct , 10\n",
      "Nov => Month.Nov , 11\n",
      "Dec => Month.Dec , 12\n",
      "Weekday.Mon\n",
      "1\n",
      "Sun => Weekday.Sun\n",
      "Mon => Weekday.Mon\n",
      "Tue => Weekday.Tue\n",
      "Wed => Weekday.Wed\n",
      "Thu => Weekday.Thu\n",
      "Fri => Weekday.Fri\n",
      "Sat => Weekday.Sat\n"
     ]
    }
   ],
   "source": [
    "from enum import Enum\n",
    "# 枚举常量\n",
    "Month = Enum('Month', ('Jan', 'Feb', 'Mar', 'Apr', 'May', 'Jun', 'Jul', 'Aug', 'Sep', 'Oct', 'Nov', 'Dec'))\n",
    "# 枚举所有成员\n",
    "for name, member in Month.__members__.items():\n",
    "  print(name, '=>', member, ',', member.value)\n",
    "# value 属性是自动赋给成员的int常量，默认从 1 开始\n",
    "\n",
    "# 精准的控制枚举类型，可以从Enum派生出自定义类\n",
    "from enum import Enum, unique\n",
    "# @unique 装饰器可以检查并保证没有重复值\n",
    "@unique\n",
    "class Weekday(Enum):\n",
    "  # Sun 的 value 被设定为 0\n",
    "  Sun = 0\n",
    "  Mon = 1\n",
    "  Tue = 2\n",
    "  Wed = 3\n",
    "  Thu = 4\n",
    "  Fri = 5\n",
    "  Sat = 6\n",
    "\n",
    "# 访问\n",
    "day1 = Weekday.Mon\n",
    "print(day1)\n",
    "print(day1.value)\n",
    "for name, member in Weekday.__members__.items():\n",
    "  print(name, '=>', member)"
   ]
  },
  {
   "cell_type": "code",
   "execution_count": null,
   "metadata": {
    "collapsed": true
   },
   "outputs": [],
   "source": []
  }
 ],
 "metadata": {
  "kernelspec": {
   "display_name": "Python 3",
   "language": "python",
   "name": "python3"
  },
  "language_info": {
   "codemirror_mode": {
    "name": "ipython",
    "version": 3
   },
   "file_extension": ".py",
   "mimetype": "text/x-python",
   "name": "python",
   "nbconvert_exporter": "python",
   "pygments_lexer": "ipython3",
   "version": "3.6.1"
  }
 },
 "nbformat": 4,
 "nbformat_minor": 2
}

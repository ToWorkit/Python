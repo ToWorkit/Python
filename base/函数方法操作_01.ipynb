{
 "cells": [
  {
   "cell_type": "code",
   "execution_count": 1,
   "metadata": {},
   "outputs": [
    {
     "name": "stdout",
     "output_type": "stream",
     "text": [
      "None\n",
      "<class 'NoneType'>\n"
     ]
    }
   ],
   "source": [
    "num=10\n",
    "num=None  #None,主要用于判断变量有没有人正在使用。\n",
    "print(num)\n",
    "print(type(None))"
   ]
  },
  {
   "cell_type": "code",
   "execution_count": 6,
   "metadata": {
    "collapsed": true
   },
   "outputs": [],
   "source": [
    "# 空函数，可以占据位置，使代码正确运行\n",
    "def nop():\n",
    "    pass # 没有会报错\n",
    "\n",
    "age = 18\n",
    "if age >= 18:\n",
    "    pass"
   ]
  },
  {
   "cell_type": "code",
   "execution_count": 12,
   "metadata": {},
   "outputs": [
    {
     "name": "stdout",
     "output_type": "stream",
     "text": [
      "14\n",
      "84\n",
      "14\n",
      "30\n",
      "148\n",
      "name:  ll age:  20 other: {}\n",
      "name:  pl age:  24 other: {'city': 'BeiJing', 'job': 'FE'}\n",
      "name:  PL age:  24 other: {'city': 'BeiJing', 'job': 'Fe'}\n",
      "----------\n",
      "fe\n",
      "name -> ll age -> 22 {'job': 'fe'}\n",
      "(1, 2, 3, 4, 5, 6)\n",
      "{'info': {'name': 'lp'}}\n"
     ]
    }
   ],
   "source": [
    "# 固定参数， 所以需要将多个参数值作为一个list或tuple传入\n",
    "def calc(numbers):\n",
    "    sum = 0\n",
    "    for num in numbers:\n",
    "        sum += num * num\n",
    "    return sum\n",
    "\n",
    "\n",
    "# 一个参数项\n",
    "print(calc([1, 2, 3]))  # list\n",
    "print(calc((1, 3, 5, 7)))  # tuple\n",
    "\n",
    "\n",
    "# 可变参数 注意 * 号\n",
    "def calc_02(*numbers):\n",
    "    sum = 0\n",
    "    for num in numbers:\n",
    "        sum += num * num\n",
    "    return sum\n",
    "\n",
    "\n",
    "# 多个参数项\n",
    "print(calc_02(1, 2, 3))\n",
    "\n",
    "# list或者tuple传入可变参数\n",
    "list_01 = [1, 2, 3, 4]\n",
    "print(calc_02(*list_01))\n",
    "tuple_01 = (1, 3, 5, 7, 8)\n",
    "print(calc_02(*tuple_01))\n",
    "\n",
    "\n",
    "# 关键字参数  ** 关键字参数 -> kw => key，value形式\n",
    "# name, age 为必选参数\n",
    "def person(name, age, **kw):\n",
    "    print('name: ', name, 'age: ', age, 'other:', kw)\n",
    "\n",
    "\n",
    "person('ll', 20)\n",
    "# 可传入任意关键字参数\n",
    "person('pl', 24, city='BeiJing', job='FE')\n",
    "\n",
    "extra = {\n",
    "    'city': 'BeiJing',\n",
    "    'job': 'Fe'\n",
    "}\n",
    "person('PL', '24', **extra)\n",
    "print(\"-\" * 10)\n",
    "\n",
    "# 命名关键字参数\n",
    "def person_02(name, age, **kw):\n",
    "    if 'city' in kw:\n",
    "        # 有city参数\n",
    "        pass # 占位符\n",
    "    if 'job' in kw:\n",
    "        print(kw.get('job'))\n",
    "    print('name ->', name, 'age ->', age, kw)\n",
    "person_02('ll', 22, job = 'fe')\n",
    "\n",
    "# 数组\n",
    "def foo(*obj):\n",
    "    print(obj)\n",
    "foo(*[1, 2, 3], *[4, 5, 6])\n",
    "\n",
    "# 传入字典时\n",
    "def foo1(**obj):\n",
    "    print(obj)\n",
    "# foo1(**{'name': 'lp'})\n",
    "foo1(info={'name': 'lp'})"
   ]
  },
  {
   "cell_type": "code",
   "execution_count": 2,
   "metadata": {},
   "outputs": [
    {
     "name": "stdout",
     "output_type": "stream",
     "text": [
      "6\n",
      "9\n"
     ]
    }
   ],
   "source": [
    "# 函数作为返回值\n",
    "def lazy_sum(*args):\n",
    "  def sum():\n",
    "    ax = 0\n",
    "    for n in args:\n",
    "      ax += n\n",
    "    return ax\n",
    "  return sum \n",
    "print(lazy_sum(1, 2, 3)())\n",
    "print(lazy_sum(3, 3, 3)())"
   ]
  },
  {
   "cell_type": "code",
   "execution_count": 3,
   "metadata": {},
   "outputs": [
    {
     "name": "stdout",
     "output_type": "stream",
     "text": [
      "[1, 4, 9, 16, 25, 36, 49, 64, 81]\n",
      "<function <lambda> at 0x000001174A01DBF8>\n",
      "16\n",
      "<function build.<locals>.<lambda> at 0x000001174A01D8C8>\n",
      "29\n"
     ]
    }
   ],
   "source": [
    "print(list(map(lambda x : x * x, [1, 2, 3, 4, 5, 6, 7, 8, 9])))\n",
    "# 相当于\n",
    "def f(x):\n",
    "  return x * x\n",
    "# 匿名函数 lambda 冒号前的x为参数\n",
    "\n",
    "f = lambda x : x + x\n",
    "print(f)\n",
    "print(f(8))\n",
    "# 匿名函数作为返回值\n",
    "def build(x, y):\n",
    "  return lambda: x * x + y * y\n",
    "\n",
    "print(build(2, 5))\n",
    "# 匿名函数\n",
    "print(build(2, 5)())"
   ]
  },
  {
   "cell_type": "code",
   "execution_count": 4,
   "metadata": {},
   "outputs": [
    {
     "name": "stdout",
     "output_type": "stream",
     "text": [
      "9\n",
      "9\n",
      "9\n",
      "-------------\n",
      "1\n",
      "4\n",
      "9\n"
     ]
    }
   ],
   "source": [
    "def count():\n",
    "  fs = []\n",
    "  for i in range(1, 4):\n",
    "    def f():\n",
    "      return i * i\n",
    "    fs.append(f)\n",
    "  return fs  \n",
    "f1, f2, f3 = count()      \n",
    "# ll = list(range(1, 4))\n",
    "# 结果应该是1， 4， 9 但实际是 9, 9, 9 \n",
    "print(f1())\n",
    "print(f2())\n",
    "print(f3())\n",
    "print('-------------')\n",
    "# 闭包版\n",
    "def count_():\n",
    "  def f(j):\n",
    "    def g():\n",
    "      return j * j\n",
    "    return g\n",
    "  fs = []\n",
    "  for i in range(1, 4):\n",
    "    # f(i) 会立刻执行，因此 i 的当前值被传入 f()\n",
    "    fs.append(f(i))\n",
    "  return fs  \n",
    "f1, f2, f3 = count_()\n",
    "print(f1())\n",
    "print(f2())\n",
    "print(f3())"
   ]
  },
  {
   "cell_type": "code",
   "execution_count": 5,
   "metadata": {},
   "outputs": [
    {
     "name": "stdout",
     "output_type": "stream",
     "text": [
      "4\n",
      "13\n"
     ]
    }
   ],
   "source": [
    "def f(n):\n",
    "  return n*n\n",
    "print(f(2))\n",
    "\n",
    "# 函数作为参数\n",
    "def foo(a, b, func):\n",
    "  return func(a) + func(b)\n",
    "print(foo(2, 3, f))"
   ]
  },
  {
   "cell_type": "code",
   "execution_count": 13,
   "metadata": {},
   "outputs": [
    {
     "name": "stdout",
     "output_type": "stream",
     "text": [
      "[1, 2, 3, 'END']\n",
      "['END']\n",
      "['END', 'END']\n",
      "['And']\n",
      "['And']\n",
      "[2, 1, 0, 'And']\n"
     ]
    }
   ],
   "source": [
    "def add_end(arr = []):\n",
    "    arr.append('END')\n",
    "    return arr\n",
    "# 正确\n",
    "print(add_end([1, 2, 3]))\n",
    "# 但是不传递其他参数，只使用默认参数时就会出现累加的效果(BUG)\n",
    "print(add_end())\n",
    "print(add_end())\n",
    "# 默认参数必须指向不可变的对象\n",
    "# 修改\n",
    "def add_n(arr = None):\n",
    "    if arr is None:\n",
    "        arr = []\n",
    "    arr.append('And')\n",
    "    return arr\n",
    "print(add_n())\n",
    "print(add_n())\n",
    "print(add_n([2, 1, 0]))"
   ]
  },
  {
   "cell_type": "code",
   "execution_count": null,
   "metadata": {
    "collapsed": true
   },
   "outputs": [],
   "source": []
  }
 ],
 "metadata": {
  "kernelspec": {
   "display_name": "Python 3",
   "language": "python",
   "name": "python3"
  },
  "language_info": {
   "codemirror_mode": {
    "name": "ipython",
    "version": 3
   },
   "file_extension": ".py",
   "mimetype": "text/x-python",
   "name": "python",
   "nbconvert_exporter": "python",
   "pygments_lexer": "ipython3",
   "version": "3.6.1"
  }
 },
 "nbformat": 4,
 "nbformat_minor": 2
}

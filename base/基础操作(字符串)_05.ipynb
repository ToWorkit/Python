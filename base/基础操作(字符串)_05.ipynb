{
 "cells": [
  {
   "cell_type": "code",
   "execution_count": 1,
   "metadata": {},
   "outputs": [
    {
     "name": "stdout",
     "output_type": "stream",
     "text": [
      "True\n",
      "LP love me\n"
     ]
    }
   ],
   "source": [
    "# 使用 in 判断 是否在\n",
    "print('l' in 'Hello World')\n",
    "\n",
    "# 格式字符串\n",
    "print('%s love me' % 'LP')"
   ]
  },
  {
   "cell_type": "code",
   "execution_count": 2,
   "metadata": {},
   "outputs": [
    {
     "name": "stdout",
     "output_type": "stream",
     "text": [
      "Hello World\n"
     ]
    }
   ],
   "source": [
    "# 字符串拼接\n",
    "a = 'Hello '\n",
    "b = 'World'\n",
    "c = ''.join([a, b])\n",
    "print(c)"
   ]
  },
  {
   "cell_type": "code",
   "execution_count": 3,
   "metadata": {},
   "outputs": [
    {
     "name": "stdout",
     "output_type": "stream",
     "text": [
      "2\n",
      "*******World********\n",
      "True\n",
      "True\n"
     ]
    }
   ],
   "source": [
    "# String 内置方法\n",
    "\n",
    "# 统计字符个数\n",
    "print('Hello'.count('l'))\n",
    "\n",
    "# 字符串放中间左右补充 共20个*\n",
    "print('World'.center(20, '*'))\n",
    "\n",
    "# 以什么为开头 结尾, 严格规范大小写 可加范围\n",
    "print('Hello'.startswith('H'))\n",
    "print('Hello'.endswith('lo'))"
   ]
  },
  {
   "cell_type": "code",
   "execution_count": 4,
   "metadata": {},
   "outputs": [
    {
     "name": "stdout",
     "output_type": "stream",
     "text": [
      "He        llo World\n",
      "2\n",
      "Hello pp, love ll\n",
      "3\n"
     ]
    }
   ],
   "source": [
    "st = 'He\\tllo World'\n",
    "# 配合 \\t 使用\n",
    "print(st.expandtabs(tabsize = 10))\n",
    "# 查找第一个位置 有则返回位置，无则返回 -1\n",
    "print(st.find('\\t'))\n",
    "\n",
    "# 字符串格式化的另一种方式\n",
    "l = 'Hello {name}, love {favour}'\n",
    "# print(l.format(name = 'Lp', favour = 'pl'))\n",
    "print(l.format_map({\n",
    "  'name': 'pp',\n",
    "  'favour': 'll'\n",
    "}))\n",
    "# 位置， 有则返回，无则报错\n",
    "print(st.index('l'))"
   ]
  },
  {
   "cell_type": "code",
   "execution_count": 5,
   "metadata": {},
   "outputs": [
    {
     "name": "stdout",
     "output_type": "stream",
     "text": [
      "True\n",
      "   Hello    \n",
      "Hello\n"
     ]
    }
   ],
   "source": [
    "# 判断字符串是有否包含数字, 其他字符不行\n",
    "print('abc123'.isalnum())\n",
    "\n",
    "# 去掉换行和空格\n",
    "p = '   Hello    '\n",
    "print(p)\n",
    "print(p.strip())"
   ]
  },
  {
   "cell_type": "code",
   "execution_count": 6,
   "metadata": {},
   "outputs": [
    {
     "name": "stdout",
     "output_type": "stream",
     "text": [
      "Hello Lp\n",
      "['Hello', 'World']\n",
      "['?book_id', '90&username', 'pp']\n",
      "Hello World\n",
      "Abc\n"
     ]
    }
   ],
   "source": [
    "# 替换, 默认替换所有，第三个参数为控制替换次数(深度)\n",
    "r = 'Hello World'\n",
    "print(r.replace('World', 'Lp'))\n",
    "\n",
    "# 字符串分割, 第二个参数为分割深度(次数)\n",
    "print(r.split(' '))\n",
    "\n",
    "sp = '?book_id=90&username=pp'\n",
    "print(sp.split('='))\n",
    "\n",
    "# 首字母都大写\n",
    "print('hello world'.title())\n",
    "\n",
    "print('abc'.capitalize())\n"
   ]
  },
  {
   "cell_type": "code",
   "execution_count": 7,
   "metadata": {},
   "outputs": [
    {
     "name": "stdout",
     "output_type": "stream",
     "text": [
      "['hello', 'world', 'you', 'ok']\n",
      "['hello', 'world', 'you', 'ok', 'nice']\n"
     ]
    }
   ],
   "source": [
    "l = ['Hello', 'World', 'You', 'Ok']\n",
    "print([item.lower() for item in l])\n",
    "# 跳过不能操作的整数项\n",
    "# 非字符串类型没有lower() 方法\n",
    "l_02 = ['Hello', 'World', 20, 'You', 'Ok', [2], {3}, 'NICE']\n",
    "# 处理类型是字符串的\n",
    "print([item.lower() for item in l_02 if isinstance(item, str) ])"
   ]
  },
  {
   "cell_type": "code",
   "execution_count": 8,
   "metadata": {},
   "outputs": [
    {
     "name": "stdout",
     "output_type": "stream",
     "text": [
      "[0, 1, 4, 9, 16, 25, 36, 49, 64, 81]\n",
      "0\n",
      "1\n",
      "4\n",
      "9\n",
      "16\n",
      "25\n",
      "36\n",
      "49\n",
      "64\n",
      "81\n"
     ]
    }
   ],
   "source": [
    "# 第一种\n",
    "print([x * x for x in range(10)])\n",
    "g = (x * x for x in range(10))\n",
    "print(next(g)) # 通过next() 函数获得generator的下一个返回值\n",
    "for n in g:\n",
    "  print(n)"
   ]
  },
  {
   "cell_type": "code",
   "execution_count": null,
   "metadata": {
    "collapsed": true
   },
   "outputs": [],
   "source": []
  }
 ],
 "metadata": {
  "kernelspec": {
   "display_name": "Python 3",
   "language": "python",
   "name": "python3"
  },
  "language_info": {
   "codemirror_mode": {
    "name": "ipython",
    "version": 3
   },
   "file_extension": ".py",
   "mimetype": "text/x-python",
   "name": "python",
   "nbconvert_exporter": "python",
   "pygments_lexer": "ipython3",
   "version": "3.6.1"
  }
 },
 "nbformat": 4,
 "nbformat_minor": 2
}

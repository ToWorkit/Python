{
 "cells": [
  {
   "cell_type": "code",
   "execution_count": 1,
   "metadata": {},
   "outputs": [
    {
     "name": "stdout",
     "output_type": "stream",
     "text": [
      "b'\\xe4\\xb8\\xad\\xe6\\x96\\x87'\n"
     ]
    }
   ],
   "source": [
    "# 操作二进制数据\n",
    "from io import BytesIO\n",
    "f = BytesIO()\n",
    "f.write('中文'.encode('utf-8'))\n",
    "print(f.getvalue())"
   ]
  },
  {
   "cell_type": "code",
   "execution_count": 4,
   "metadata": {},
   "outputs": [
    {
     "name": "stdout",
     "output_type": "stream",
     "text": [
      "<class 'dict'>\n",
      "{'name': 'Bob', 'age': 20, 'score': 88}\n",
      "<class 'dict'>\n",
      "{'age': 20, 'score': 90, 'name': 'Lp'}\n"
     ]
    }
   ],
   "source": [
    "# python 对象转 json\n",
    "import json\n",
    "d = dict(name = 'Bob', age = 20, score = 88)\n",
    "print(type(d))\n",
    "# 返回一个str，内容为JSON\n",
    "# 可以将JSON写入一个文件对象\n",
    "json.dumps(d)\n",
    "print(d) \n",
    "print(type(d))\n",
    "'''\n",
    "要把JSON反序列化为Python对象，用loads()或者对应的load()方法，前者把JSON的字符串反序列化，后者从file-like Object中读取字符串并反序列化\n",
    "'''\n",
    "json_str = '{\"age\": 20, \"score\": 90, \"name\": \"Lp\"}'\n",
    "print(json.loads(json_str))\n",
    "# JSON标准规定编码为UTF-8"
   ]
  },
  {
   "cell_type": "code",
   "execution_count": 5,
   "metadata": {},
   "outputs": [
    {
     "name": "stdout",
     "output_type": "stream",
     "text": [
      "{\"name\": \"Pl\", \"age\": 20, \"score\": 90}\n"
     ]
    }
   ],
   "source": [
    "# JSON进阶\n",
    "class Student(object):\n",
    "  def __init__(self, name, age, score):\n",
    "    self.name = name\n",
    "    self.age = age\n",
    "    self.score = score\n",
    "# JSON 转换函数\n",
    "def student_dict(std):\n",
    "  return {\n",
    "    'name': std.name,\n",
    "    'age': std.age,\n",
    "    'score': std.score\n",
    "  }    \n",
    "# 实例化\n",
    "s = Student('Pl', 20, 90)\n",
    "\n",
    "# Student的实例 s 首先被student_dict()函数转换成dict， 再序列化为JSON\n",
    "# print(json.dumps(s, default = student_dict))\n",
    "\n",
    "# 再遇到另外类的实例可以将实例变为dict\n",
    "'''\n",
    "  因为通常class的实例都有一个__dict__属性，它就是一个dict，用来存储实例变量。也有少数例外，比如定义了__slots__的class。\n",
    "\n",
    "  同样的道理，如果我们要把JSON反序列化为一个Student对象实例，loads()方法首先转换出一个dict对象，\n",
    "  然后，我们传入的object_hook函数负责把dict转换为Student实例\n",
    "'''\n",
    "print(json.dumps(s, default = lambda obj: obj.__dict__))\n"
   ]
  },
  {
   "cell_type": "code",
   "execution_count": 6,
   "metadata": {},
   "outputs": [
    {
     "name": "stdout",
     "output_type": "stream",
     "text": [
      "Hello\n",
      "LP\n"
     ]
    }
   ],
   "source": [
    "from io import StringIO\n",
    "f = StringIO('Hello\\nLP')\n",
    "while True:\n",
    "  s = f.readline()\n",
    "  if s == '':\n",
    "    break\n",
    "  print(s.strip())  "
   ]
  },
  {
   "cell_type": "code",
   "execution_count": 7,
   "metadata": {},
   "outputs": [
    {
     "name": "stdout",
     "output_type": "stream",
     "text": [
      "nt\n",
      "C:\\Users\\Just Do It\\Anaconda3\\Library\\bin;C:\\Users\\Just Do It\\Anaconda3\\Library\\bin;C:\\Users\\Just Do It\\Anaconda3\\Scripts;C:\\Users\\Just Do It\\Anaconda3\\Library\\bin;D:\\java\\jdk1.8.0_92\\bin;D:\\java\\jdk1.8.0_92\\jre\\bin;C:\\WINDOWS\\system32;C:\\WINDOWS;C:\\WINDOWS\\System32\\Wbem;C:\\WINDOWS\\System32\\WindowsPowerShell\\v1.0\\;C:\\Users\\Just Do It\\AppData\\Roaming\\npm\\nvm;C:\\Program Files\\Redis\\;D:\\PBB Reader\\x64;D:\\java\\scala-2.11.8\\bin;C:\\Program Files (x86)\\scala\\bin;E:\\node\\;C:\\Program Files\\Git\\cmd;C:\\WINDOWS\\System32\\OpenSSH\\;E:\\project\\hadoop-2.7.2\\bin;\"D:\\java\\jdk1.8.0_92\\bin;D:\\java\\jdk1.8.0_92\\jre\\bin;\";C:\\Users\\Just Do It\\Anaconda3;C:\\Users\\Just Do It\\Anaconda3\\Library\\mingw-w64\\bin;C:\\Users\\Just Do It\\Anaconda3\\Library\\usr\\bin;C:\\Users\\Just Do It\\Anaconda3\\Library\\bin;C:\\Users\\Just Do It\\Anaconda3\\Scripts;C:\\Users\\Just Do It\\AppData\\Local\\Programs\\Python\\Python36\\Scripts\\;C:\\Users\\Just Do It\\AppData\\Local\\Programs\\Python\\Python36\\;C:\\Users\\Just Do It\\AppData\\Local\\Microsoft\\WindowsApps;C:\\WINDOWS\\System32;C:\\WINDOWS;C:\\WINDOWS\\system32\\Webm;C:\\Program Files\\MongoDB\\Server\\3.4\\bin;C:\\php-7.1.5-nts-Win32-VC14-x86;D:\\wamp\\bin\\mysql\\mysql5.6.12\\bin;D:\\phantomjs-2.1.1-windows\\bin;C:\\Users\\Just Do It\\chromedriver_win32;E:\\mysql-5.7.22-winx64\\bin;C:\\Users\\Just Do It\\AppData\\Local\\atom\\bin;D:\\apache-maven-3.5.3-bin\\apache-maven-3.5.3\\bin;C:\\Users\\Just Do It\\AppData\\Roaming\\npm;E:\\node;;C:\\Users\\Just Do It\\AppData\\Local\\Microsoft\\WindowsApps\n",
      "--------------------\n",
      "C:\\Users\\Just Do It\\Desktop\\python\\base\n",
      "C:\\Users\\Just Do It\\Desktop\\python\\base\\testDir\n",
      "('/Users/hedy/Desktop/Python_base/IO', 'test.txt')\n",
      "('/Users/hedy/Desktop/Python_base/IO/test', '.txt')\n",
      "----------------------\n",
      "['.ipynb_checkpoints']\n",
      "[]\n"
     ]
    }
   ],
   "source": [
    "import os\n",
    "# 查看系统名称\n",
    "print(os.name)\n",
    "# 查看环境变量\n",
    "# print(os.environ)\n",
    "# 获取某个环境变量\n",
    "print(os.environ.get('PATH'))\n",
    "print('--------------------')\n",
    "# 操作文件和目录\n",
    "# 当前 dirname\n",
    "print(os.path.abspath('.'))\n",
    "# 在某个目录下创建一个新目录，首先把新目录的完整路径表示出来\n",
    "print(os.path.join(os.path.abspath('.'), 'testDir'))\n",
    "testdir = os.path.join(os.path.abspath('.'), 'testDir')\n",
    "# 然后再创建一个目录\n",
    "# os.mkdir(testdir)\n",
    "# 删除一个目录\n",
    "# os.rmdir(testdir)\n",
    "\n",
    "'''\n",
    "  合并路径时要使用 os.path.join() 可以处理不同路径下的操作系统路径分隔符\n",
    "  拆分路径时要使用 os.path.split() 这样可以把一个路径拆分为两部分，后一部分总是最后级别的目录或文件名\n",
    "  合并，拆分路径的函数并不要求目录和文件要真实存在，它们只对字符串进行操作\n",
    "'''\n",
    "print(os.path.split('/Users/hedy/Desktop/Python_base/IO/test.txt'))\n",
    "\n",
    "# 直接获取到文件的扩展名\n",
    "print(os.path.splitext('/Users/hedy/Desktop/Python_base/IO/test.txt'))\n",
    "\n",
    "print('----------------------')\n",
    "\n",
    "'''\n",
    "  复制文件的函数在os模块中不存在，因为复制文件并非由操作系统提供的系统调用\n",
    "  可以使用shutil模块提供的copyfile()实现，可以当做是os模块的补充\n",
    "'''\n",
    "\n",
    "# 对文件重命名 同一目录下\n",
    "# os.rename('test.txt', 'test.py')\n",
    "\n",
    "# 删除文件\n",
    "# os.remove('test.py')\n",
    "\n",
    "# 列出当前目录下的所有目录\n",
    "print([x for x in os.listdir('.') if os.path.isdir(x)])\n",
    "# 列出所有的 .py 文件\n",
    "print([x for x in os.listdir('.') if os.path.isfile(x) and os.path.splitext(x)[1] == '.py'])\n"
   ]
  },
  {
   "cell_type": "code",
   "execution_count": 8,
   "metadata": {},
   "outputs": [
    {
     "name": "stdout",
     "output_type": "stream",
     "text": [
      "6\n"
     ]
    }
   ],
   "source": [
    "def fact(n):\n",
    "    if n == 1:\n",
    "      return 1\n",
    "    return n * fact(n - 1)  \n",
    "# 注意去看尾调用的\n",
    "print(fact(3))"
   ]
  },
  {
   "cell_type": "code",
   "execution_count": 9,
   "metadata": {},
   "outputs": [
    {
     "name": "stdout",
     "output_type": "stream",
     "text": [
      "6\n"
     ]
    }
   ],
   "source": [
    "def fact(n, p = 1):\n",
    "  if n <= 1:\n",
    "    return p\n",
    "  # n * p 在函数调用之前就计算了，不会影响函数调用\n",
    "  return fact(n - 1, n * p)\n",
    "\n",
    "print(fact(3))  "
   ]
  },
  {
   "cell_type": "code",
   "execution_count": 10,
   "metadata": {},
   "outputs": [
    {
     "name": "stdout",
     "output_type": "stream",
     "text": [
      "<class 'str'>\n",
      "['A', 'B', 'C', 'D', 'A', 'B']\n",
      "B\n"
     ]
    }
   ],
   "source": [
    "a = 'AAAABBBCCDAABBB'\n",
    "b = a[:]\n",
    "c = list()\n",
    "print(type(b))\n",
    "for i in range(len(a)):\n",
    "  if((i < len(a) - 1) and (a[i] != a[i + 1])):\n",
    "    c.append(a[i])\n",
    "c.append(a[-1])\n",
    "print(c)\n",
    "print(a[-1])"
   ]
  },
  {
   "cell_type": "code",
   "execution_count": null,
   "metadata": {
    "collapsed": true
   },
   "outputs": [],
   "source": []
  }
 ],
 "metadata": {
  "kernelspec": {
   "display_name": "Python 3",
   "language": "python",
   "name": "python3"
  },
  "language_info": {
   "codemirror_mode": {
    "name": "ipython",
    "version": 3
   },
   "file_extension": ".py",
   "mimetype": "text/x-python",
   "name": "python",
   "nbconvert_exporter": "python",
   "pygments_lexer": "ipython3",
   "version": "3.6.1"
  }
 },
 "nbformat": 4,
 "nbformat_minor": 2
}

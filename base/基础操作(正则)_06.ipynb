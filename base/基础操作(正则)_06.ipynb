{
 "cells": [
  {
   "cell_type": "code",
   "execution_count": 1,
   "metadata": {},
   "outputs": [
    {
     "name": "stdout",
     "output_type": "stream",
     "text": [
      "ABC\\-000\n",
      "PL\\-LP\n",
      "<_sre.SRE_Match object; span=(0, 9), match='000 12345'>\n",
      "['ab', '', 'c']\n",
      "['a', 'b,', 'c']\n",
      "['a', 'b', 'c']\n",
      "['a', 'b', 'c', '']\n"
     ]
    }
   ],
   "source": [
    "# 字符串\n",
    "# 对应的正则表达式字符串会变为 'ABC\\-000'\n",
    "s = 'ABC\\\\-000'\n",
    "print(s)\n",
    "# 使用python的 r 前缀，就避免转义的问题\n",
    "# r 防止字符串转义\n",
    "s2 = r'PL\\-LP' \n",
    "print(s2)\n",
    "\n",
    "# 判断正则表达式是否匹配\n",
    "import re\n",
    "re.match(r'\\d{3}\\-\\d{3,8}$', '019-19823')\n",
    "# math()\n",
    "# 判断是否匹配\n",
    "# 成功返回一个Match对象\n",
    "# 失败返回None\n",
    "print(re.match(r'^\\d{3}\\s\\d{3,8}$', '000 12345'))\n",
    "'''\n",
    "test = '用户输入的字符串'\n",
    "if re.match(r'正则表达式', test):\n",
    "    print('ok')\n",
    "else:\n",
    "    print('failed')\n",
    "'''\n",
    "\n",
    "# 切分字符串\n",
    "_str = 'ab  c'\n",
    "print(_str.split(' '))\n",
    "# 识别空格\n",
    "print(re.split(r'\\s+', 'a   b, c'))\n",
    "# 识别逗号\n",
    "print(re.split(r'[\\s\\,]+', 'a, b  , c'))\n",
    "# 识别分号\n",
    "print(re.split(r'[\\s\\,\\;]+', 'a;b;,c,'))"
   ]
  },
  {
   "cell_type": "code",
   "execution_count": 2,
   "metadata": {},
   "outputs": [
    {
     "name": "stdout",
     "output_type": "stream",
     "text": [
      "010-12345\n",
      "010\n"
     ]
    }
   ],
   "source": [
    "import re\n",
    "# 定义两个组\n",
    "# ^(\\d{3})-(\\d{3,8})$\n",
    "m = re.match(r'^(\\d{3})-(\\d{3,8})$', '010-12345')\n",
    "print(m.group(0))\n",
    "print(m.group(1))"
   ]
  },
  {
   "cell_type": "code",
   "execution_count": 3,
   "metadata": {},
   "outputs": [
    {
     "name": "stdout",
     "output_type": "stream",
     "text": [
      "('102300', '')\n",
      "('1023', '00')\n"
     ]
    }
   ],
   "source": [
    "import re\n",
    "# 正则匹配默认为贪婪匹配\n",
    "# 因为\\d+采用了贪婪匹配，直接把后面的0全部匹配了，所以后面的 0* 就只能匹配空字符串了\n",
    "print(re.match(r'^(\\d+)(0*)$', '102300').groups())\n",
    "\n",
    "# 非贪婪\n",
    "print(re.match(r'^(\\d+?)(0*)$', '102300').groups())"
   ]
  },
  {
   "cell_type": "code",
   "execution_count": null,
   "metadata": {
    "collapsed": true
   },
   "outputs": [],
   "source": []
  }
 ],
 "metadata": {
  "kernelspec": {
   "display_name": "Python 3",
   "language": "python",
   "name": "python3"
  },
  "language_info": {
   "codemirror_mode": {
    "name": "ipython",
    "version": 3
   },
   "file_extension": ".py",
   "mimetype": "text/x-python",
   "name": "python",
   "nbconvert_exporter": "python",
   "pygments_lexer": "ipython3",
   "version": "3.6.1"
  }
 },
 "nbformat": 4,
 "nbformat_minor": 2
}

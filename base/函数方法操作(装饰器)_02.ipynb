{
 "cells": [
  {
   "cell_type": "code",
   "execution_count": 1,
   "metadata": {},
   "outputs": [
    {
     "name": "stdout",
     "output_type": "stream",
     "text": [
      "begin call now_01():\n",
      "2018-10-07 11:09:10\n",
      "end call now_01():\n",
      "begin 第一个是默认参数的，这个是传入参数的 now_02():\n",
      "2018/10/07 11-09-10\n",
      "end 第一个是默认参数的，这个是传入参数的 now_02():\n"
     ]
    }
   ],
   "source": [
    "# -*- coding: utf-8 -*-\n",
    "import functools\n",
    "import time\n",
    "# 使用默认参数\n",
    "def log(text = 'call'):\n",
    "  def decorator(func):\n",
    "    # 防止__name__被篡改\n",
    "    @functools.wraps(func)\n",
    "    def wrapper(*args, **kw):\n",
    "      try:\n",
    "        print('%s %s %s():' %('begin', text, func.__name__))\n",
    "        return func(*args, **kw)\n",
    "      # 完成后\n",
    "      finally:\n",
    "        print('%s %s %s():' %('end', text, func.__name__))  \n",
    "    return wrapper\n",
    "  return decorator\n",
    "\n",
    "@log()\n",
    "def now_01():        \n",
    "  print(time.strftime('%Y-%m-%d %H:%M:%S', time.localtime()))\n",
    "\n",
    "@log('第一个是默认参数的，这个是传入参数的')\n",
    "def now_02():\n",
    "  print(time.strftime('%Y/%m/%d %H-%M-%S', time.localtime()))\n",
    "\n",
    "now_01()\n",
    "now_02()  "
   ]
  },
  {
   "cell_type": "code",
   "execution_count": 2,
   "metadata": {},
   "outputs": [
    {
     "name": "stdout",
     "output_type": "stream",
     "text": [
      "仔细看 now():\n",
      "2018-10-07 11:11:38\n",
      "wrapper\n",
      "指定后的 now_():\n",
      "2018-10-07 11:11:38\n",
      "now_\n"
     ]
    }
   ],
   "source": [
    "import time\n",
    "def log(text):\n",
    "  def decorator(func):\n",
    "    def wrapper(*args, **kw):\n",
    "      print('%s %s():' % (text, func.__name__))\n",
    "      return func(*args, **kw)\n",
    "    return wrapper\n",
    "  return decorator\n",
    "@log('仔细看')\n",
    "def now():\n",
    "  print(time.strftime('%Y-%m-%d %H:%M:%S', time.localtime()))\n",
    "now()\n",
    "# 因为返回值是 wrapper函数， 所以__name__ 会是wrapper\n",
    "print(now.__name__)\n",
    "\n",
    "# 使用functools.wraps将__name__还原\n",
    "import functools\n",
    "def log_(text):\n",
    "  def decorator(func):\n",
    "    # 指定 __name__ 为函数本身\n",
    "    @functools.wraps(func)\n",
    "    def wrapper(*args, **kw):\n",
    "      print('%s %s():' %(text, func.__name__))\n",
    "      return func(*args, **kw)\n",
    "    return wrapper\n",
    "  return decorator\n",
    "@log_('指定后的')\n",
    "def now_():\n",
    "  print(time.strftime('%Y-%m-%d %H:%M:%S', time.localtime()))\n",
    "\n",
    "now_()\n",
    "print(now_.__name__)"
   ]
  },
  {
   "cell_type": "code",
   "execution_count": 3,
   "metadata": {},
   "outputs": [
    {
     "name": "stdout",
     "output_type": "stream",
     "text": [
      "['Adam', 'Lisa', 'Bart']\n"
     ]
    }
   ],
   "source": [
    "# 首字母大写其余小写\n",
    "def normalize(x):\n",
    "  return x.lower()[:1].upper() + x.lower()[1:]\n",
    "print(list(map(normalize, ['adam', 'LISA', 'barT'])))"
   ]
  },
  {
   "cell_type": "code",
   "execution_count": null,
   "metadata": {
    "collapsed": true
   },
   "outputs": [],
   "source": []
  }
 ],
 "metadata": {
  "kernelspec": {
   "display_name": "Python 3",
   "language": "python",
   "name": "python3"
  },
  "language_info": {
   "codemirror_mode": {
    "name": "ipython",
    "version": 3
   },
   "file_extension": ".py",
   "mimetype": "text/x-python",
   "name": "python",
   "nbconvert_exporter": "python",
   "pygments_lexer": "ipython3",
   "version": "3.6.1"
  }
 },
 "nbformat": 4,
 "nbformat_minor": 2
}

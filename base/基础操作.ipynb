{
 "cells": [
  {
   "cell_type": "code",
   "execution_count": 1,
   "metadata": {},
   "outputs": [
    {
     "name": "stdout",
     "output_type": "stream",
     "text": [
      "['False', 'None', 'True', 'and', 'as', 'assert', 'break', 'class', 'continue', 'def', 'del', 'elif', 'else', 'except', 'finally', 'for', 'from', 'global', 'if', 'import', 'in', 'is', 'lambda', 'nonlocal', 'not', 'or', 'pass', 'raise', 'return', 'try', 'while', 'with', 'yield']\n"
     ]
    }
   ],
   "source": [
    "# 自带关键字，不允许命名变量函数类\n",
    "import keyword\n",
    "print(keyword.kwlist)"
   ]
  },
  {
   "cell_type": "code",
   "execution_count": 2,
   "metadata": {},
   "outputs": [
    {
     "name": "stdout",
     "output_type": "stream",
     "text": [
      "1604512240 1604512240\n"
     ]
    }
   ],
   "source": [
    "num1 = 2\n",
    "num2 = 2\n",
    "# 地址 数据一致时地址(指向)相同\n",
    "print(id(num1), id(num2))"
   ]
  },
  {
   "cell_type": "code",
   "execution_count": 3,
   "metadata": {},
   "outputs": [
    {
     "name": "stdout",
     "output_type": "stream",
     "text": [
      "1604512272 1604512240\n"
     ]
    }
   ],
   "source": [
    "num1 = 3\n",
    "print(id(num1), id(num2))"
   ]
  },
  {
   "cell_type": "code",
   "execution_count": 4,
   "metadata": {},
   "outputs": [
    {
     "name": "stdout",
     "output_type": "stream",
     "text": [
      "请输入名称World\n",
      "Hello World\n"
     ]
    }
   ],
   "source": [
    "# 输入\n",
    "name = input('请输入名称')\n",
    "print('Hello', name)"
   ]
  },
  {
   "cell_type": "code",
   "execution_count": 5,
   "metadata": {},
   "outputs": [
    {
     "name": "stdout",
     "output_type": "stream",
     "text": [
      "100\n",
      "kid\n"
     ]
    }
   ],
   "source": [
    "a = -100\n",
    "if a >= 100:\n",
    "  print(a)\n",
    "else:\n",
    "  print(-a)\n",
    "\n",
    "age = 3\n",
    "if age >= 18:\n",
    "    print('adult')\n",
    "elif age >= 6:\n",
    "    print('teenager')\n",
    "else:\n",
    "    print('kid')"
   ]
  },
  {
   "cell_type": "code",
   "execution_count": 6,
   "metadata": {},
   "outputs": [
    {
     "name": "stdout",
     "output_type": "stream",
     "text": [
      "['a', 'b', 'c']\n",
      "[1, 2, 3]\n",
      "[1, 2, 3]\n"
     ]
    }
   ],
   "source": [
    "# 类似于js的数组\n",
    "arr = ['c', 'a', 'b']\n",
    "# list 是可变的对象，对list进行操作，list 的内部也会发生变化\n",
    "arr.sort()\n",
    "print(arr) # ['a', 'b', 'c']\n",
    "# 列表的另一种创建方式\n",
    "l = list([1, 2, 3])\n",
    "print(l)\n",
    "l_02 = list((1, 2, 3))\n",
    "print(l_02)"
   ]
  },
  {
   "cell_type": "code",
   "execution_count": 7,
   "metadata": {},
   "outputs": [
    {
     "name": "stdout",
     "output_type": "stream",
     "text": [
      "{2, 3}\n",
      "{1, 2, 3, 4}\n",
      "{1, 2, 3, 4, 5, 6}\n",
      "{2, 3, 4, 'abc'}\n",
      "{'c', 2, 3, 4, 'b', 12, 'a', 'abc', '22'}\n",
      "{9, 2}\n",
      "{9, 2}\n",
      "{2, 4, 6, 7, 9}\n",
      "{2, 4, 6, 7, 9}\n",
      "False\n",
      "False\n",
      "False\n",
      "False\n"
     ]
    }
   ],
   "source": [
    "# 一组key的集合，不储存value\n",
    "# set可以看成数学意义上的无序和无重复元素的集合， 因此两个set可以做数学意义上的交集和并集等操作\n",
    "\n",
    "set_01 = set([1, 2, 3])\n",
    "set_02 = set([2, 3, 4])\n",
    "set_03 = set([1, 1, 2, 2, 3, 4, 4, 5, 6, 6])\n",
    "print(set_01 & set_02) # 交集 {2，3}\n",
    "print(set_01 | set_02) # 并集 {1, 2, 3, 4}\n",
    "print(set_03) # 去重\n",
    "s = set([4, 3, 2])\n",
    "# add 添加为一个元素\n",
    "s.add('abc')\n",
    "print(s)\n",
    "# update 拆开添加\n",
    "s.update('abc')\n",
    "s.update([12, '22'])\n",
    "print(s)\n",
    "\n",
    "a = set([1, 2, 3, 9])\n",
    "b = set([1, 4, 6, 7, 3])\n",
    "# 差集(在a里面的，但不在b里)\n",
    "print(a.difference(b))\n",
    "# 简写\n",
    "print(a - b)\n",
    "# 对称差集(没有同时出现在a, b中的数)\n",
    "print(a.symmetric_difference(b))\n",
    "print(a ^ b)\n",
    "# 超集 (a是否完全包含b)\n",
    "print(a.issuperset(b))\n",
    "print(a > b)\n",
    "# 子级\n",
    "print(a.issubset(b))\n",
    "print(a < b)"
   ]
  },
  {
   "cell_type": "code",
   "execution_count": 8,
   "metadata": {},
   "outputs": [
    {
     "name": "stdout",
     "output_type": "stream",
     "text": [
      "Hello A\n",
      "Hello B\n",
      "Hello C\n"
     ]
    }
   ],
   "source": [
    "names = ['A', 'B', 'C']\n",
    "for name in names:\n",
    "    print('Hello', name)"
   ]
  },
  {
   "cell_type": "code",
   "execution_count": 9,
   "metadata": {},
   "outputs": [
    {
     "name": "stdout",
     "output_type": "stream",
     "text": [
      "2500\n"
     ]
    }
   ],
   "source": [
    "sum = 0\n",
    "n = 99\n",
    "while n > 0:\n",
    "    sum += n\n",
    "    n -= 2\n",
    "print(sum)"
   ]
  },
  {
   "cell_type": "code",
   "execution_count": 10,
   "metadata": {},
   "outputs": [
    {
     "name": "stdout",
     "output_type": "stream",
     "text": [
      "3\n",
      "(2, 3)\n",
      "(1,)\n"
     ]
    }
   ],
   "source": [
    "# 元组的注意点\n",
    "l = (1, 2, 3, 4)\n",
    "print(l[2])\n",
    "# l[2] = 1 # 报错，元组可读不可改\n",
    "# 含头不含尾\n",
    "print(l[1:3])\n",
    "# 当元组只有一个数据的时候要用逗号结尾\n",
    "o = (1,)\n",
    "print(o)"
   ]
  },
  {
   "cell_type": "code",
   "execution_count": 11,
   "metadata": {},
   "outputs": [
    {
     "name": "stdout",
     "output_type": "stream",
     "text": [
      "1\n"
     ]
    }
   ],
   "source": [
    "a = '1'\n",
    "# 检测字符串是否只由数字组成\n",
    "if a.isdigit():\n",
    "  a = int(a)\n",
    "print(a ** 2)  "
   ]
  },
  {
   "cell_type": "code",
   "execution_count": 12,
   "metadata": {},
   "outputs": [
    {
     "name": "stdout",
     "output_type": "stream",
     "text": [
      "100\n",
      "5\n",
      "90\n",
      "0xff\n"
     ]
    }
   ],
   "source": [
    "# 内置函数\n",
    "# 绝对值\n",
    "print(abs(-100)) # 100\n",
    "# 最大值\n",
    "print(max(1, 3, 5, 0)) # 5\n",
    "# int --> 转为整数\n",
    "# float --> 转为浮点整数\n",
    "# str --> 转为字符串\n",
    "# bool --> 转为布尔值\n",
    "# hex --> 转为十六进制\n",
    "\n",
    "# 函数名就是指向一个函数对象的引用\n",
    "a = abs\n",
    "print(a(-90)) # 90\n",
    "print(hex(255))"
   ]
  },
  {
   "cell_type": "code",
   "execution_count": 13,
   "metadata": {},
   "outputs": [
    {
     "name": "stdout",
     "output_type": "stream",
     "text": [
      "Michael\n",
      "Bob\n",
      "Tracy\n",
      "15\n"
     ]
    }
   ],
   "source": [
    "names = [\"Michael\", \"Bob\", \"Tracy\"]\n",
    "for name in names:\n",
    "    print(name)\n",
    "\n",
    "sum = 0\n",
    "for num in [1, 2, 3, 4, 5]:\n",
    "    sum += num\n",
    "print(sum)"
   ]
  },
  {
   "cell_type": "code",
   "execution_count": 14,
   "metadata": {},
   "outputs": [
    {
     "name": "stdout",
     "output_type": "stream",
     "text": [
      "5050\n"
     ]
    }
   ],
   "source": [
    "# range() 函数可以生成一个整数序列\n",
    "sum = 0\n",
    "for item in range(101): # 0 - 100\n",
    "    sum += item\n",
    "print(sum)"
   ]
  },
  {
   "cell_type": "code",
   "execution_count": 15,
   "metadata": {},
   "outputs": [
    {
     "name": "stdout",
     "output_type": "stream",
     "text": [
      "89\n",
      "False\n",
      "True\n",
      "None\n",
      "None -1\n",
      "89\n",
      "{'name': 'lp', 'age': 24}\n",
      "{'name': 'pl', 'age': 24}\n"
     ]
    }
   ],
   "source": [
    "# dict(相当于JavaScript的map)，使用键-值(kay-value)存储\n",
    "# 字典\n",
    "# 无序， 键唯一\n",
    "data = {\n",
    "    'Michael': 90,\n",
    "    'Bob': 89,\n",
    "    'Tracy': 98\n",
    "}\n",
    "print(data['Bob'])\n",
    "\n",
    "# 判断key是否存在\n",
    "# in\n",
    "print('adc' in data) # False\n",
    "print('Bob' in data) # True\n",
    "# get\n",
    "# 如果key不存在可以返回None或者自己指定的value\n",
    "print(data.get('abc')) # None\n",
    "print(data.get('abc'), -1) # -1\n",
    "print(data.get('Bob')) # 89\n",
    "\n",
    "# list 和 dict\n",
    "# list 可以理解为js的数组，根据索引查询值，处理慢，查找和插入的时间随着元素的增加而增加\n",
    "# dict 是键值对的方式，处理快，不会随着key的增加而变慢，需要占用大量的内存，内存浪费多\n",
    "#       key必须是不可变对象，通过key计算位置的算法称为哈希算法\n",
    "\n",
    "# 字典的第二种创建方式\n",
    "dic = dict((('name', 'lp'), ('age', 24)))\n",
    "dic_02 = dict([['name', 'pl'], ['age', 24]])\n",
    "print(dic)\n",
    "print(dic_02)"
   ]
  },
  {
   "cell_type": "code",
   "execution_count": 16,
   "metadata": {},
   "outputs": [
    {
     "name": "stdout",
     "output_type": "stream",
     "text": [
      "1\n",
      "3\n",
      "5\n",
      "7\n",
      "9\n"
     ]
    }
   ],
   "source": [
    "# continue 可以跳过当前的循环，直接开始下一次循环\n",
    "num = 0\n",
    "while num < 10:\n",
    "    num += 1\n",
    "    if num % 2 == 0: # 如果 n 是偶数，执行continue语句\n",
    "        continue # continue 语句会直接继续下一轮循环，后续的print()语句不会执行\n",
    "    print(num)"
   ]
  },
  {
   "cell_type": "code",
   "execution_count": 17,
   "metadata": {},
   "outputs": [
    {
     "name": "stdout",
     "output_type": "stream",
     "text": [
      "1\n",
      "2\n",
      "3\n",
      "4\n",
      "5\n",
      "6\n",
      "7\n",
      "8\n",
      "9\n",
      "10\n",
      "END\n"
     ]
    }
   ],
   "source": [
    "# break 语句可以提前退出循环\n",
    "num = 1\n",
    "while num <= 100:\n",
    "    if num > 10:\n",
    "        break # 当 n = 11 时， 满足条件后执行break退出循环\n",
    "    print(num)\n",
    "    num += 1\n",
    "print('END')"
   ]
  }
 ],
 "metadata": {
  "kernelspec": {
   "display_name": "Python 3",
   "language": "python",
   "name": "python3"
  },
  "language_info": {
   "codemirror_mode": {
    "name": "ipython",
    "version": 3
   },
   "file_extension": ".py",
   "mimetype": "text/x-python",
   "name": "python",
   "nbconvert_exporter": "python",
   "pygments_lexer": "ipython3",
   "version": "3.6.1"
  }
 },
 "nbformat": 4,
 "nbformat_minor": 2
}

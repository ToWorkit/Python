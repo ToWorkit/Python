{
 "cells": [
  {
   "cell_type": "code",
   "execution_count": 1,
   "metadata": {},
   "outputs": [
    {
     "name": "stdout",
     "output_type": "stream",
     "text": [
      "{'name': 'HL', 'age': 24}\n",
      "girl\n",
      "{'name': 'HL', 'age': 24, 'hobby': 'girl'}\n"
     ]
    }
   ],
   "source": [
    "# dict \n",
    "# 增加\n",
    "dic_01 = {'name': 'HL'}\n",
    "dic_01['age'] = 24 # 有则修改无则增加\n",
    "print(dic_01)\n",
    "\n",
    "# 增加 \n",
    "# 键存在 不修改 返回值\n",
    "# 键不存在 增加 并返回值\n",
    "ret = dic_01.setdefault('hobby', 'girl')\n",
    "print(ret)\n",
    "print(dic_01)"
   ]
  },
  {
   "cell_type": "code",
   "execution_count": 2,
   "metadata": {},
   "outputs": [
    {
     "name": "stdout",
     "output_type": "stream",
     "text": [
      "dict_keys(['name', 'age', 'hobby'])\n",
      "['name', 'age', 'hobby']\n",
      "dict_values(['HL', 24, 'girl'])\n",
      "dict_items([('name', 'HL'), ('age', 24), ('hobby', 'girl')])\n",
      "{'name': 'lp', 'age': 24, 'hobby': 'boy', 'go': 'world'}\n",
      "{'name': 'lp', 'hobby': 'boy', 'go': 'world'}\n"
     ]
    }
   ],
   "source": [
    "# 打印所有的键\n",
    "# dict_keys dict_values 类型， python3做出的优化，为了防止键或者值太多而一次性取出所造成内存的消耗\n",
    "print(dic_01.keys()) \n",
    "# 转换为list列表\n",
    "print(list(dic_01.keys())) \n",
    "# 值\n",
    "print(dic_01.values())\n",
    "# 键值对\n",
    "print(dic_01.items())\n",
    "\n",
    "# 改\n",
    "dic_02 = {'name': 'lp', 'hobby': 'boy', 'go': 'world'}\n",
    "# 更新，有则覆盖， 无则创建\n",
    "dic_01.update(dic_02)\n",
    "print(dic_01)\n",
    "print(dic_02)"
   ]
  },
  {
   "cell_type": "code",
   "execution_count": 4,
   "metadata": {},
   "outputs": [
    {
     "name": "stdout",
     "output_type": "stream",
     "text": [
      "{'a': 'A', 'b': 'B', 'd': 'D', 'e': 'E', 'f': 'F'}\n",
      "B\n",
      "{'a': 'A', 'd': 'D', 'e': 'E', 'f': 'F'}\n",
      "('f', 'F')\n",
      "{'a': 'A', 'd': 'D', 'e': 'E'}\n",
      "{}\n",
      "{'key1': 'test', 'key2': 'test', 'key3': 'test'}\n",
      "{1: [4, 5, 6], 2: [4, 5, 6], 3: [4, 5, 6]}\n",
      "['1', '2', '3']\n"
     ]
    }
   ],
   "source": [
    "# 删\n",
    "dic_03 = {'a': 'A', 'b': 'B', 'c': 'C', 'd': 'D', 'e': 'E', 'f': 'F'}\n",
    "# 指定删除， 也可以删除整个字典，再取时会报错\n",
    "del dic_03['c']\n",
    "print(dic_03)\n",
    "print(dic_03.pop('b')) # 返回删除的值\n",
    "print(dic_03)\n",
    "\n",
    "# 随机删除\n",
    "reg = dic_03.popitem()\n",
    "print(reg)\n",
    "print(dic_03)\n",
    "\n",
    "# 清空\n",
    "dic_03.clear()\n",
    "print(dic_03)\n",
    "\n",
    "\n",
    "# 新的创建字典\n",
    "dic_04 = dict.fromkeys(['key1', 'key2', 'key3'], 'test')\n",
    "print(dic_04)\n",
    "\n",
    "dic_06 = dict.fromkeys([1, 2, 3], [4, 5, 6])\n",
    "print(dic_06)\n",
    "\n",
    "# 排序 默认根据key\n",
    "dic_05 = {\n",
    "  2: '1',\n",
    "  4: '2',\n",
    "  1: '3'\n",
    "}\n",
    "print(sorted(dic_05.values()))\n"
   ]
  },
  {
   "cell_type": "code",
   "execution_count": 1,
   "metadata": {},
   "outputs": [
    {
     "name": "stdout",
     "output_type": "stream",
     "text": [
      "['a', 'b', 'c']\n",
      "['LP', 'b', 'c']\n",
      "[[2, 2], 'l', 'p']\n",
      "[[2, 2], 'l', 'p']\n",
      "[[2, 3], 999, 2]\n",
      "[[2, 3], 999, 2]\n",
      "[[2, 3], 999, 2]\n",
      "[[2, 3], 888, 2]\n"
     ]
    }
   ],
   "source": [
    "# copy\n",
    "l = ['a', 'b', 'c']\n",
    "l2 = l.copy()\n",
    "l2[0] = 'LP'\n",
    "print(l)\n",
    "# l2 的修改不会影响l\n",
    "print(l2) \n",
    "\n",
    "l3 = [[1, 2], 'l', 'p']\n",
    "l4 = l3.copy()\n",
    "l4[0][0] = 2\n",
    "# 深层copy修改则会影响到 l3\n",
    "print(l3)\n",
    "print(l4)\n",
    "\n",
    "# 看区别\n",
    "list1 = [[2, 3], 1, 2]\n",
    "list2 = list1\n",
    "list2[1] = 999\n",
    "print(list1)\n",
    "print(list2)\n",
    "list3 = list1.copy()\n",
    "list3[1] = 888\n",
    "print(list1)\n",
    "print(list3)"
   ]
  },
  {
   "cell_type": "code",
   "execution_count": 2,
   "metadata": {},
   "outputs": [
    {
     "name": "stdout",
     "output_type": "stream",
     "text": [
      "['en', 320, [99997999, 9999999]]\n",
      "['Pl', 321, [99999999, 9998999]]\n"
     ]
    }
   ],
   "source": [
    "import copy\n",
    "\n",
    "# 信用卡可关联账户\n",
    "husband = ['Lp', 123, [99999999, 9999999]]\n",
    "\n",
    "wife = husband.copy()\n",
    "# 独立的关联账户\n",
    "wife[0] = 'Pl'\n",
    "wife[1] = 321\n",
    "# 小三(老婆不知道) 需要独立出来，数据互不影响\n",
    "xiaosan = copy.deepcopy(husband)\n",
    "xiaosan[0] = 'en'\n",
    "xiaosan[1] = 320\n",
    "# 公用的\n",
    "husband[2][1] -= 1000\n",
    "# 不影响数据\n",
    "xiaosan[2][0] -= 2000\n",
    "\n",
    "print(xiaosan)\n",
    "print(wife)"
   ]
  },
  {
   "cell_type": "code",
   "execution_count": null,
   "metadata": {
    "collapsed": true
   },
   "outputs": [],
   "source": []
  }
 ],
 "metadata": {
  "kernelspec": {
   "display_name": "Python 3",
   "language": "python",
   "name": "python3"
  },
  "language_info": {
   "codemirror_mode": {
    "name": "ipython",
    "version": 3
   },
   "file_extension": ".py",
   "mimetype": "text/x-python",
   "name": "python",
   "nbconvert_exporter": "python",
   "pygments_lexer": "ipython3",
   "version": "3.6.1"
  }
 },
 "nbformat": 4,
 "nbformat_minor": 2
}

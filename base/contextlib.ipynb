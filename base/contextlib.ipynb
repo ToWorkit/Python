{
 "cells": [
  {
   "cell_type": "code",
   "execution_count": 1,
   "metadata": {},
   "outputs": [
    {
     "name": "stdout",
     "output_type": "stream",
     "text": [
      "Begin\n",
      "Query info about Bob\n",
      "None\n",
      "End\n"
     ]
    }
   ],
   "source": [
    "# 并不是只有open()函数(操作文件)返回的fp对象才能使用with语句。实际上，任何对象，只要正确实现了上下文管理，\n",
    "# 就可以用于with语句。实现上下文管理是通过__enter__和__exit__这两个方法实现的\n",
    "class Query(object):\n",
    "  def __init__(self, name):\n",
    "    self.name = name\n",
    "  def __enter__(self):\n",
    "    print('Begin')\n",
    "    return self\n",
    "  def __exit__(self, exc_type, exc_value, traceback):\n",
    "    if exc_type:\n",
    "      print('Error')    \n",
    "    else:\n",
    "      print('End')\n",
    "  def query(self):\n",
    "    print('Query info about %s' % self.name)    \n",
    "\n",
    "with Query('Bob') as q:\n",
    "  print(q.query())"
   ]
  },
  {
   "cell_type": "code",
   "execution_count": 2,
   "metadata": {},
   "outputs": [
    {
     "name": "stdout",
     "output_type": "stream",
     "text": [
      "Begin\n",
      "Query info about Hello\n",
      "None\n",
      "End\n",
      "<h1>\n",
      "Hello\n",
      "World\n",
      "</h1>\n"
     ]
    }
   ],
   "source": [
    "# 使用contextlib改写\n",
    "from contextlib import contextmanager\n",
    "class Query(object):\n",
    "  def __init__(self, name):\n",
    "    self.name = name\n",
    "  def query(self):\n",
    "    print('Query info about %s' % self.name)\n",
    "@contextmanager\n",
    "def create_query(name):\n",
    "  print('Begin')\n",
    "  q = Query(name)\n",
    "  yield q\n",
    "  print('End')\n",
    "with create_query('Hello') as q:\n",
    "  print(q.query())\n",
    "\n",
    "\n",
    "# 在某段代码执行前后自动执行特定代码\n",
    "# with语句首先执行yield之前的语句，因此打印出<h1>；\n",
    "# yield调用会执行with语句内部的所有语句，因此打印出hello和world；\n",
    "# 最后执行yield之后的语句，打印出</h1>。\n",
    "@contextmanager\n",
    "# @contextmanager可以实现通过编写generator来简化上下文管理。\n",
    "def tag(name):\n",
    "  print(\"<%s>\" % name)\n",
    "  yield\n",
    "  print(\"</%s>\" % name)\n",
    "with tag('h1'):\n",
    "  print('Hello')\n",
    "  print('World')"
   ]
  },
  {
   "cell_type": "code",
   "execution_count": null,
   "metadata": {
    "collapsed": true
   },
   "outputs": [],
   "source": [
    "# 如果一个对象没有实现上下文，我们就不能把它用于with语句。这个时候，可以用closing()来把该对象变为上下文对象\n",
    "# from contextlib import closing\n",
    "# from urllib.request import urlopen\n",
    "# with closing(urlopen('https://www.python.org')) as page:\n",
    "#   for line in page:\n",
    "#     print(line)\n",
    "\n",
    "@contextmanager\n",
    "def closing(thing):\n",
    "  try:\n",
    "    yield thing\n",
    "  finally:\n",
    "    thing.close()  \n"
   ]
  }
 ],
 "metadata": {
  "kernelspec": {
   "display_name": "Python 3",
   "language": "python",
   "name": "python3"
  },
  "language_info": {
   "codemirror_mode": {
    "name": "ipython",
    "version": 3
   },
   "file_extension": ".py",
   "mimetype": "text/x-python",
   "name": "python",
   "nbconvert_exporter": "python",
   "pygments_lexer": "ipython3",
   "version": "3.6.1"
  }
 },
 "nbformat": 4,
 "nbformat_minor": 2
}
